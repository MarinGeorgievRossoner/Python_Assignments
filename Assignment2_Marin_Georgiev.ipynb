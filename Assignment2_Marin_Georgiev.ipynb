{
 "cells": [
  {
   "cell_type": "markdown",
   "metadata": {},
   "source": [
    "## Second Assignment"
   ]
  },
  {
   "cell_type": "markdown",
   "metadata": {},
   "source": [
    "#### 1) Create a function called **\"even_squared\"** that receives an integer value **N**, and returns a list containing, in ascending order, the square of each of the even values, from 1 to N, including N if applicable. "
   ]
  },
  {
   "cell_type": "code",
   "execution_count": 5,
   "metadata": {},
   "outputs": [
    {
     "name": "stdout",
     "output_type": "stream",
     "text": [
      "10\n",
      "4\n",
      "16\n",
      "36\n",
      "64\n",
      "100\n"
     ]
    }
   ],
   "source": [
    "def even_squared(N = int(input())):\n",
    "    for i in range (1, N+1):\n",
    "        if i%2==0:\n",
    "            print(i*i)\n",
    "xN = even_squared()"
   ]
  },
  {
   "cell_type": "markdown",
   "metadata": {},
   "source": [
    "#### 2) Using a while loop and the **input()** function, read an indefinite amount of **integers** until the number read is **-1**. After this process, print two lists on the screen: The first containing the even integers, and the second containing the odd integers. Both must be in ascending order. "
   ]
  },
  {
   "cell_type": "code",
   "execution_count": 8,
   "metadata": {},
   "outputs": [
    {
     "name": "stdout",
     "output_type": "stream",
     "text": [
      "9\n",
      "8\n",
      "7\n",
      "6\n",
      "5\n",
      "4\n",
      "3\n",
      "2\n",
      "-1\n",
      "The even numbers are:  [2, 4, 6, 8] The odd numbers are:  [3, 5, 7, 9]\n"
     ]
    }
   ],
   "source": [
    "list_even = []\n",
    "list_odd = []\n",
    "while True:\n",
    "    number = int(input())\n",
    "    if number == -1:\n",
    "        list_even.sort()\n",
    "        list_odd.sort()\n",
    "        print(\"The even numbers are: \", list_even, \"The odd numbers are: \", list_odd)\n",
    "        break\n",
    "    elif number % 2 == 0: \n",
    "        list_even.append(number)\n",
    "    elif number % 2 != 0:\n",
    "        list_odd.append(number)"
   ]
  },
  {
   "cell_type": "markdown",
   "metadata": {},
   "source": [
    "#### 3) Create a function called **\"even_account\"** that receives a list of integers, counts the number of existing even elements, and returns this count. "
   ]
  },
  {
   "cell_type": "code",
   "execution_count": 36,
   "metadata": {},
   "outputs": [
    {
     "name": "stdout",
     "output_type": "stream",
     "text": [
      "1\n",
      "2\n",
      "3\n",
      "4\n",
      "5\n",
      "6\n",
      "7\n",
      "8\n",
      "9\n",
      "666\n",
      "In the list:  [1, 2, 3, 4, 5, 6, 7, 8, 9] there are  4 even numbers\n"
     ]
    }
   ],
   "source": [
    "def even_account():\n",
    "    lst2 = []\n",
    "    count = 0\n",
    "    while True:\n",
    "        lst = int(input())\n",
    "        if lst == 666: #I am sure that there is a smarter way to break it, because 666 itself is an integer, but..\n",
    "            break\n",
    "        lst2.append(lst)\n",
    "    for t in lst2:\n",
    "        if t % 2 == 0:\n",
    "            count += 1\n",
    "    print(\"In the list: \", lst2, \"there are \", count, \"even numbers\")\n",
    "exs = even_account()       "
   ]
  },
  {
   "cell_type": "markdown",
   "metadata": {},
   "source": [
    "#### 4) Create a function called **\"squared_list\"** that receives a list of integers and returns another list whose elements are the squares of the elements of the first. "
   ]
  },
  {
   "cell_type": "code",
   "execution_count": 44,
   "metadata": {},
   "outputs": [
    {
     "name": "stdout",
     "output_type": "stream",
     "text": [
      "Enter the number of elements in the list: 2\n",
      "Enter an integer element: 4\n",
      "Enter an integer element: 6\n",
      "The squared elements of this list:  [4, 6] are these [16, 36]\n"
     ]
    }
   ],
   "source": [
    "def squared_list():\n",
    "    sq_list = [] \n",
    "    sq_list2 = []\n",
    "    n = int(input(\"Enter the number of elements in the list: \"))\n",
    "    for e in range(0,n):\n",
    "        abv = int(input(\"Enter an integer element: \"))\n",
    "        sq_list.append(abv)\n",
    "    for c in sq_list:\n",
    "        c = c*c\n",
    "        sq_list2.append(c)\n",
    "    return print(\"The squared values of this list: \", sq_list, \"are these\", sq_list2)    \n",
    "sq2 = squared_list()"
   ]
  },
  {
   "cell_type": "markdown",
   "metadata": {},
   "source": [
    "#### 5) Create a function called **\"descending\"** that receives two lists of integers and returns a single list, which contains all the elements in descending order, and may include repeated elements. "
   ]
  },
  {
   "cell_type": "code",
   "execution_count": 47,
   "metadata": {},
   "outputs": [
    {
     "name": "stdout",
     "output_type": "stream",
     "text": [
      "Enter the number of elements in the first list: 5\n",
      "Enter the number of elements in the second list: 5\n",
      "Enter an integer element for list 1: 1\n",
      "Enter an integer element for list 1: 3\n",
      "Enter an integer element for list 1: 4\n",
      "Enter an integer element for list 1: 6\n",
      "Enter an integer element for list 1: 5\n",
      "Enter an integer element for list 2: 3\n",
      "Enter an integer element for list 2: 2\n",
      "Enter an integer element for list 2: 9\n",
      "Enter an integer element for list 2: 8\n",
      "Enter an integer element for list 2: 66\n",
      "[66, 9, 8, 6, 5, 4, 3, 3, 2, 1]\n"
     ]
    }
   ],
   "source": [
    "def descending():\n",
    "    list1 = []\n",
    "    list2 = []\n",
    "    list_combo = []\n",
    "    n1 = int(input(\"Enter the number of elements in the first list: \"))\n",
    "    n2 = int(input(\"Enter the number of elements in the second list: \"))\n",
    "    for i in range(0,n1):\n",
    "        n1list = int(input(\"Enter an integer element for list 1: \"))\n",
    "        list1.append(n1list)\n",
    "    for j in range (0,n2):\n",
    "        n2list = int(input(\"Enter an integer element for list 2: \"))\n",
    "        list2.append(n2list)\n",
    "    list_combo = list1 + list2\n",
    "    list_combo.sort(reverse = True)\n",
    "    return print(list_combo)\n",
    "combo = descending()"
   ]
  },
  {
   "cell_type": "markdown",
   "metadata": {},
   "source": [
    "#### 6) Create a function called **\"adding\"** that receives a list **A**, and an arbitrary number of integers as input. Return a new list containing the elements of **A** plus the integers passed as input, in the order in which they were given. Here is an example: \n",
    "\n",
    ">```python\n",
    ">>>> A = [10,20,30]\n",
    ">>>> adding(A, 4, 10, 50, 1)\n",
    "> [10, 20, 30, 4, 10, 50, 1]\n",
    "```"
   ]
  },
  {
   "cell_type": "code",
   "execution_count": 106,
   "metadata": {},
   "outputs": [
    {
     "name": "stdout",
     "output_type": "stream",
     "text": [
      "Enter this number to break: 21570521\n",
      "1\n",
      "2\n",
      "55\n",
      "5\n",
      "21570521\n",
      "[10, 20, 30, 1, 2, 55, 5]\n"
     ]
    }
   ],
   "source": [
    "A = [10,20,30]\n",
    "def adding():\n",
    "    print(\"Enter this number to break: 21570521\")\n",
    "    while True: \n",
    "        adding = int(input())\n",
    "        if adding == 21570521:\n",
    "            break\n",
    "        else:\n",
    "            A.append(adding)\n",
    "    return print(A)\n",
    "add = adding()"
   ]
  },
  {
   "cell_type": "markdown",
   "metadata": {},
   "source": [
    "#### 7) Create a function called **\"intersection\"** that receives two input lists and returns another list with the values that belong to the two lists simultaneously (intersection) without repetition of values and in ascending order. Use only lists (do not use sets); loops and conditionals. See the example: \n",
    "\n",
    ">```python\n",
    ">>>> A = [-2, 0, 1, 2, 3]\n",
    ">>>> B = [-1, 2, 3, 6, 8]\n",
    ">>>> intersection(A,B)\n",
    "> [2, 3]\n",
    "```"
   ]
  },
  {
   "cell_type": "code",
   "execution_count": 86,
   "metadata": {},
   "outputs": [
    {
     "name": "stdout",
     "output_type": "stream",
     "text": [
      "[2, 3]\n"
     ]
    }
   ],
   "source": [
    "C = [-2, 0, 1, 2, 3]\n",
    "D = [-1, 2, 3, 6, 8]\n",
    "def intersection(x, y):\n",
    "    y2final = []\n",
    "    asd = []\n",
    "    for i in x:\n",
    "        if i in y:\n",
    "            y2final.append(i)\n",
    "    for j in y:\n",
    "        if j in x:\n",
    "            y2final.append(j)\n",
    "    for g in y2final:\n",
    "        if g not in asd:\n",
    "            asd.append(g)\n",
    "        asd.sort()\n",
    "    return print(asd)\n",
    "intersection(C, D)\n",
    "            "
   ]
  },
  {
   "cell_type": "markdown",
   "metadata": {},
   "source": [
    "#### 8) Create a function called **\"union\"** that receives two input lists and returns another list with the union of the elements of the two received, without repetition of elements and in ascending order. Use only lists (do not use sets); loops and conditionals. See the example: \n",
    "\n",
    ">```python\n",
    ">>>> A = [-2, 0, 1, 2]\n",
    ">>>> B = [-1, 1, 2, 10]\n",
    ">>>> union(A,B)\n",
    "> [-2, -1, 0, 1, 2, 10]\n",
    "```"
   ]
  },
  {
   "cell_type": "code",
   "execution_count": 68,
   "metadata": {},
   "outputs": [
    {
     "name": "stdout",
     "output_type": "stream",
     "text": [
      "To stop entering elements in list 1 write '112211' \n",
      " To stop entering elements in list 2 writ '221122'\n",
      "Enter an integer element in list 1 here: -2\n",
      "Enter an integer element in list 1 here: 0\n",
      "Enter an integer element in list 1 here: 1\n",
      "Enter an integer element in list 1 here: 2\n",
      "Enter an integer element in list 1 here: 112211\n",
      "Enter an integer element in list 2 here: -1\n",
      "Enter an integer element in list 2 here: 1\n",
      "Enter an integer element in list 2 here: 2\n",
      "Enter an integer element in list 2 here: 10\n",
      "Enter an integer element in list 2 here: 221122\n",
      "[-2, -1, 0, 1, 2, 10]\n"
     ]
    }
   ],
   "source": [
    "def union():\n",
    "    u1 = []\n",
    "    u2 = []\n",
    "    ufinal = []\n",
    "    print(\"To stop entering elements in list 1 write '112211'\",\"\\n\", \"To stop entering elements in list 2 writ '221122'\")\n",
    "    while True:\n",
    "        u11 = int(input(\"Enter an integer element in list 1 here: \"))\n",
    "        if u11 == 112211:\n",
    "            break\n",
    "        u1.append(u11)\n",
    "    while True:\n",
    "        u22 = int(input(\"Enter an integer element in list 2 here: \"))\n",
    "        if u22 == 221122:\n",
    "            break\n",
    "        u2.append(u22)\n",
    "    u3 = u1 + u2\n",
    "    for i in u3:\n",
    "        if i not in ufinal:\n",
    "            ufinal.append(i)\n",
    "        ufinal.sort()\n",
    "    return print(ufinal)\n",
    "un = union()\n",
    "\n",
    "# I am not sure if I understood the task correctly, so I did a second version of it. Please see below :)\n",
    "\n",
    "A = [-2, 0, 1, 2]\n",
    "B = [-1, 1, 2, 10]\n",
    "def union2(x, y):\n",
    "    u2final = []\n",
    "    u3 = x + y\n",
    "    for i in u3:\n",
    "        if i not in u2final:\n",
    "            u2final.append(i)\n",
    "        u2final.sort()\n",
    "    return print(u2final)\n",
    "union2(A, B)\n"
   ]
  },
  {
   "cell_type": "markdown",
   "metadata": {},
   "source": [
    "#### 9) Generalize the **\"intersection\"** function so that it receives an indefinite number of lists and returns the intersection of all of them. Call the new function **intersection2**. "
   ]
  },
  {
   "cell_type": "code",
   "execution_count": 105,
   "metadata": {},
   "outputs": [
    {
     "name": "stdout",
     "output_type": "stream",
     "text": [
      "{2}\n"
     ]
    }
   ],
   "source": [
    "import itertools\n",
    "A = [-2, 0, 1, 2]\n",
    "B = [-1, 1, 2, 10]\n",
    "C = [-2, 0, 1, 2, 3]\n",
    "D = [-1, 2, 3, 6, 8]\n",
    "def intersection2(*args):\n",
    "    emp = set.intersection(*map(set,args))\n",
    "    return print(emp)\n",
    "            \n",
    "        \n",
    "intersection2(A,B,C,D)\n"
   ]
  },
  {
   "cell_type": "markdown",
   "metadata": {},
   "source": [
    "## Challenge\n",
    "\n",
    "#### 10) Create a function named **\"matrix\"** that implements matrix multiplication:\n",
    "    \n",
    "Given the matrices:\n",
    "    \n",
    "$A_{m\\times n}=\n",
    "\\left[\\begin{matrix}\n",
    "a_{11}&a_{12}&...&a_{1n}\\\\\n",
    "a_{21}&a_{22}&...&a_{2n}\\\\\n",
    "\\vdots &\\vdots &&\\vdots\\\\\n",
    "a_{m1}&a_{m2}&...&a_{mn}\\\\\n",
    "\\end{matrix}\\right]$\n",
    "    \n",
    "We will represent then as a list of lists.\n",
    "\n",
    "$A = [[a_{11},a_{12},...,a_{1n}],[a_{21},a_{22},...,a_{2n}], . . . ,[a_{m1},a_{m2},...,a_{mn}]]$\n",
    "\n",
    "The **\"matrix\"** funtion must receive two matrices $A$ e $B$ in the specified format and return $A\\times B$"
   ]
  },
  {
   "cell_type": "code",
   "execution_count": null,
   "metadata": {},
   "outputs": [],
   "source": []
  }
 ],
 "metadata": {
  "kernelspec": {
   "display_name": "Python 3",
   "language": "python",
   "name": "python3"
  },
  "language_info": {
   "codemirror_mode": {
    "name": "ipython",
    "version": 3
   },
   "file_extension": ".py",
   "mimetype": "text/x-python",
   "name": "python",
   "nbconvert_exporter": "python",
   "pygments_lexer": "ipython3",
   "version": "3.8.5"
  }
 },
 "nbformat": 4,
 "nbformat_minor": 4
}
