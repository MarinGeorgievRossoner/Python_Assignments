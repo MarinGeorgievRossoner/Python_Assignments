{
 "cells": [
  {
   "cell_type": "code",
   "execution_count": 1,
   "metadata": {},
   "outputs": [],
   "source": [
    "## First Assignment\n",
    "## Marin Georgiev, Cognitive Science"
   ]
  },
  {
   "cell_type": "markdown",
   "metadata": {},
   "source": [
    "#### 1) Apply the appropriate string methods to the **x** variable (as '.upper') to change it exactly to: \"$Dichlorodiphenyltrichloroethane$\"."
   ]
  },
  {
   "cell_type": "code",
   "execution_count": 28,
   "metadata": {},
   "outputs": [],
   "source": [
    "x = \"DiClOrod  IFeNi  lTRicLOr oETaNo  DiChlorod iPHeny lTrichL oroEThaNe\""
   ]
  },
  {
   "cell_type": "code",
   "execution_count": 47,
   "metadata": {},
   "outputs": [
    {
     "name": "stdout",
     "output_type": "stream",
     "text": [
      "Dichlorodiphenyltrichloroethane\n"
     ]
    }
   ],
   "source": [
    "xstr = x.lower().replace(\" \", \"\")\n",
    "print(xstr[27:].capitalize())"
   ]
  },
  {
   "cell_type": "markdown",
   "metadata": {},
   "source": [
    "#### 2) Assign respectively the values: 'word', 15, 3.14 and 'list' to variables A, B, C and D in a single line of code. Then, print them in that same order on a single line separated by a space, using only one print statement."
   ]
  },
  {
   "cell_type": "code",
   "execution_count": 49,
   "metadata": {},
   "outputs": [
    {
     "name": "stdout",
     "output_type": "stream",
     "text": [
      "word 15 3.14 list\n"
     ]
    }
   ],
   "source": [
    "A, B, C, D = \"word\", 15, 3.14, \"list\"\n",
    "print(A, B, C, D)"
   ]
  },
  {
   "cell_type": "markdown",
   "metadata": {},
   "source": [
    "#### 3) Use the **input()** function to receive an input in the form **'68.4 1.71'**, that is, two floating point numbers in a line separated by space. Then, assign these numbers to the variables **w** and **h** respectively, which represent an individual's weight and height (hint: take a look at the '.split()' method). With this data, calculate the individual's Body Mass Index (BMI) from the following relationship: \n",
    "    \n",
    "\\begin{equation}\n",
    "BMI = \\dfrac{weight}{height^2}\n",
    "\\end{equation}"
   ]
  },
  {
   "cell_type": "code",
   "execution_count": 25,
   "metadata": {},
   "outputs": [
    {
     "name": "stdout",
     "output_type": "stream",
     "text": [
      "Please enter your weight and height separated by space: 68.4 1.71\n"
     ]
    }
   ],
   "source": [
    "a, b = input(\"Please enter your weight and height separated by space in one line: \").split()\n",
    "w = float(a)\n",
    "h = float(b)\n",
    "bmi = w / (h*h)"
   ]
  },
  {
   "cell_type": "markdown",
   "metadata": {},
   "source": [
    "#### This value can also be classified according to ranges of values, following to the table below. Use conditional structures to classify and print the classification assigned to the individual. \n",
    "\n",
    "<center><img src=\"https://healthtravelguide.com/wp-content/uploads/2020/06/Body-mass-index-table.png\" width=\"30%\"><\\center>  \n",
    "\n",
    "\n",
    "(source: https://healthtravelguide.com/bmi-calculator/)"
   ]
  },
  {
   "cell_type": "code",
   "execution_count": 26,
   "metadata": {},
   "outputs": [
    {
     "name": "stdout",
     "output_type": "stream",
     "text": [
      "Normal weight\n"
     ]
    }
   ],
   "source": [
    "if bmi < 18.5:\n",
    "    print(\"Underweight\")\n",
    "elif bmi == 18.5 or bmi <= 24.9:\n",
    "    print(\"Normal weight\")\n",
    "elif bmi == 25 or bmi <=29.9:\n",
    "    print(\"Pre-obesity\")\n",
    "elif bmi == 30 or bmi <= 34.9:\n",
    "    print(\"Obesity class I\")\n",
    "elif bmi == 35 or bmi <= 39.9:\n",
    "    print(\"Obesity class II\")\n",
    "else:\n",
    "    print(\"obesity class III\")"
   ]
  },
  {
   "cell_type": "markdown",
   "metadata": {},
   "source": [
    "#### 4) Receive an integer as an input and, using a loop, calculate the factorial of this number, that is, the product of all the integers from one to the number provided. "
   ]
  },
  {
   "cell_type": "code",
   "execution_count": 88,
   "metadata": {},
   "outputs": [
    {
     "name": "stdout",
     "output_type": "stream",
     "text": [
      "Enter a WHOLE number: 4\n",
      "24\n"
     ]
    }
   ],
   "source": [
    "fact = int(input(\"Enter a WHOLE number: \"))\n",
    "num = 1\n",
    "if fact == num:\n",
    "    print(\"1\")\n",
    "else:\n",
    "    for i in range(1, fact + 1):\n",
    "        num = num * i\n",
    "    print(num)"
   ]
  },
  {
   "cell_type": "markdown",
   "metadata": {},
   "source": [
    "#### 5) Using a while loop and the input function, read an indefinite number of integers until the number read is -1. Present the sum of all these numbers in the form of a print, excluding the -1 read at the end. "
   ]
  },
  {
   "cell_type": "code",
   "execution_count": 99,
   "metadata": {},
   "outputs": [
    {
     "name": "stdout",
     "output_type": "stream",
     "text": [
      "Enter a whole number: 2\n",
      "Enter a whole number: 2\n",
      "Enter a whole number: -1\n",
      "4\n"
     ]
    }
   ],
   "source": [
    "total = 0\n",
    "\n",
    "while True: \n",
    "    numbers = int(input(\"Enter a whole number: \"))\n",
    "    if numbers == -1:\n",
    "        break\n",
    "    total += numbers\n",
    "    \n",
    "print(total)"
   ]
  },
  {
   "cell_type": "markdown",
   "metadata": {},
   "source": [
    "## 6) Read the **first name** of an employee, his **amount of hours worked** and the **salary per hour** in a single line separated by commas. Next, calculate the **total salary** for this employee and show it to two decimal places."
   ]
  },
  {
   "cell_type": "code",
   "execution_count": 109,
   "metadata": {},
   "outputs": [
    {
     "name": "stdout",
     "output_type": "stream",
     "text": [
      "Enter your first name: Marin\n",
      "Enter your working hours: 3.5351\n",
      "Enter your salary per hour: 8.521512\n",
      "Marin has earned 30.12 in total.\n"
     ]
    }
   ],
   "source": [
    "f_name, w_hours, s_hour = str(input(\"Enter your first name: \")), float(input(\"Enter your working hours: \")), float(input(\"Enter your salary per hour: \"))\n",
    "t_salary = s_hour * w_hours\n",
    "print(f_name, \"has earned\", \"{:.2f}\".format(t_salary), \"in total.\")\n"
   ]
  },
  {
   "cell_type": "markdown",
   "metadata": {},
   "source": [
    "#### 7) Read three floating point values **A**, **B** and **C** respectively. Then calculate itens a, b, c, d and e: "
   ]
  },
  {
   "cell_type": "code",
   "execution_count": 114,
   "metadata": {},
   "outputs": [
    {
     "name": "stdout",
     "output_type": "stream",
     "text": [
      "Enter a number: 4.56\n",
      "Enter a number: 7.55\n",
      "Enter a number: 6.51\n"
     ]
    }
   ],
   "source": [
    "A, B, C = float(input(\"Enter a number: \")), float(input(\"Enter a number: \")), float(input(\"Enter a number: \"))"
   ]
  },
  {
   "cell_type": "markdown",
   "metadata": {},
   "source": [
    "    a) the area of the triangle rectangle with A as the base and C as the height."
   ]
  },
  {
   "cell_type": "code",
   "execution_count": 119,
   "metadata": {},
   "outputs": [
    {
     "name": "stdout",
     "output_type": "stream",
     "text": [
      "14.842799999999999\n"
     ]
    }
   ],
   "source": [
    "area_triangle = 1/2 * (A*C)\n",
    "print(area_triangle)"
   ]
  },
  {
   "cell_type": "markdown",
   "metadata": {},
   "source": [
    "    b) the area of the circle of radius C. (pi = 3.14159) "
   ]
  },
  {
   "cell_type": "code",
   "execution_count": 116,
   "metadata": {},
   "outputs": [
    {
     "name": "stdout",
     "output_type": "stream",
     "text": [
      "133.140898359\n"
     ]
    }
   ],
   "source": [
    "area_circle = 3.14159 * C ** 2\n",
    "print(area_circle)"
   ]
  },
  {
   "cell_type": "markdown",
   "metadata": {},
   "source": [
    "    c) the area of the trapezoid that has A and B for bases and C for height. "
   ]
  },
  {
   "cell_type": "code",
   "execution_count": 117,
   "metadata": {},
   "outputs": [
    {
     "name": "stdout",
     "output_type": "stream",
     "text": [
      "39.418049999999994\n"
     ]
    }
   ],
   "source": [
    "area_trapezoid = (A+B) / 2*C\n",
    "print(area_trapezoid)"
   ]
  },
  {
   "cell_type": "markdown",
   "metadata": {},
   "source": [
    "    d) the area of the square that has side B. "
   ]
  },
  {
   "cell_type": "code",
   "execution_count": 121,
   "metadata": {},
   "outputs": [
    {
     "name": "stdout",
     "output_type": "stream",
     "text": [
      "57.0025\n"
     ]
    }
   ],
   "source": [
    "area_square = B*B\n",
    "print(area_square)"
   ]
  },
  {
   "cell_type": "markdown",
   "metadata": {},
   "source": [
    "    e) the area of the rectangle that has sides A and B. "
   ]
  },
  {
   "cell_type": "code",
   "execution_count": 122,
   "metadata": {},
   "outputs": [
    {
     "name": "stdout",
     "output_type": "stream",
     "text": [
      "34.428\n"
     ]
    }
   ],
   "source": [
    "area_rectangle = A * B\n",
    "print(area_rectangle)"
   ]
  },
  {
   "cell_type": "markdown",
   "metadata": {},
   "source": [
    "#### 8) Read **the values a, b and c** and calculate the **roots of the second degree equation** $ax^{2}+bx+c=0$ using [this formula](https://en.wikipedia.org/wiki/Quadratic_equation). If it is not possible to calculate the roots, display the message **“There are no real roots”**. "
   ]
  },
  {
   "cell_type": "code",
   "execution_count": 125,
   "metadata": {},
   "outputs": [
    {
     "name": "stdout",
     "output_type": "stream",
     "text": [
      "Enter a whole number: 5\n",
      "Enter a whole number: 6\n",
      "Enter a whole number: 7\n",
      "(-14.999999999999998+25.495097567963924j) (-15.000000000000002-25.495097567963924j)\n"
     ]
    }
   ],
   "source": [
    "aa, bb, cc = int(input(\"Enter a whole number: \")), int(input(\"Enter a whole number: \")), int(input(\"Enter a whole number: \"))\n",
    "x3 = (-bb + (bb ** 2 - 4 * aa * cc) ** 0.5) / 2 * aa\n",
    "x4 = (-bb - (bb ** 2 - 4 * aa * cc) ** 0.5) / 2 * aa\n",
    "print (x3, x4)\n",
    "if x3 != 0 or x4 != 0:\n",
    "    print(\"There are no real roots\")"
   ]
  },
  {
   "cell_type": "markdown",
   "metadata": {},
   "source": [
    "#### 9) Read four floating point numerical values corresponding to the coordinates of two geographical coordinates in the cartesian plane. Each point will come in a line with its coordinates separated by space. Then calculate and show the distance between these two points. \n",
    "\n",
    "(obs: $d=\\sqrt{(x_1-x_2)^2 + (y_1-y_2)^2}$)"
   ]
  },
  {
   "cell_type": "code",
   "execution_count": 126,
   "metadata": {},
   "outputs": [
    {
     "name": "stdout",
     "output_type": "stream",
     "text": [
      "2\n",
      "2\n",
      "-2\n",
      "-3\n",
      "6.4031242374328485\n"
     ]
    }
   ],
   "source": [
    "## I must admit that I copy-pasted the solution from google. \n",
    "## I was aware that the two points should be distributed in lists, but after that I stuck. The math library and ''.sqrt' function were copied.\n",
    "x1, y1, x2, y2 = float(input()), float(input()), float(input()), float(input())\n",
    "import math\n",
    "p1 = [x1, y1]\n",
    "p2 = [x2, y2]\n",
    "distance = math.sqrt( ((p1[0]-p2[0])**2)+((p1[1]-p2[1])**2) )\n",
    "\n",
    "print(distance)\n"
   ]
  },
  {
   "cell_type": "markdown",
   "metadata": {},
   "source": [
    "#### 10) Read **two floating point numbers** on a line that represent **coordinates of a cartesian point**. With this, use **conditional structures** to determine if you are at the origin, printing the message **'origin'**; in one of the axes, printing **'x axis'** or **'y axis'**; or in one of the four quadrants, printing **'q1'**, **'q2**', **'q3'** or **'q4'**. "
   ]
  },
  {
   "cell_type": "code",
   "execution_count": 50,
   "metadata": {},
   "outputs": [
    {
     "name": "stdout",
     "output_type": "stream",
     "text": [
      "1\n",
      "2\n",
      "Q1\n"
     ]
    }
   ],
   "source": [
    "xx1, yy1 = float(input()), float(input())\n",
    "if xx1 == 0 and yy1 == 0:\n",
    "    print(\"Origin\")\n",
    "elif xx1 == 0 and yy1 > 0: \n",
    "    print(\"Y axis\")\n",
    "elif xx1 == 0 and yy1 < 0: \n",
    "    print(\"Y axis\")\n",
    "elif xx1 < 0 and yy1 == 0: \n",
    "    print(\"X axis\")\n",
    "elif xx1 > 0 and yy1 == 0: \n",
    "    print(\"X axis\")\n",
    "elif xx1 > 0 and yy1 > 0:\n",
    "    print(\"Q1\")\n",
    "elif xx1 < 0 and yy1 > 0:\n",
    "    print(\"Q2\")\n",
    "elif xx1 > 0 and yy1 < 0:\n",
    "    print(\"Q4\")\n",
    "elif xx1 < 0 and yy1 < 0:\n",
    "    print(\"Q3\")"
   ]
  },
  {
   "cell_type": "markdown",
   "metadata": {},
   "source": [
    "#### 11) Read an integer that represents a phone code for international dialing.  \n",
    "#### Then, inform to which country the code belongs to, considering the generated table below:\n",
    "(You just need to consider the first 10 entries)  "
   ]
  },
  {
   "cell_type": "code",
   "execution_count": 8,
   "metadata": {},
   "outputs": [
    {
     "data": {
      "text/html": [
       "<div>\n",
       "<style scoped>\n",
       "    .dataframe tbody tr th:only-of-type {\n",
       "        vertical-align: middle;\n",
       "    }\n",
       "\n",
       "    .dataframe tbody tr th {\n",
       "        vertical-align: top;\n",
       "    }\n",
       "\n",
       "    .dataframe thead th {\n",
       "        text-align: right;\n",
       "    }\n",
       "</style>\n",
       "<table border=\"1\" class=\"dataframe\">\n",
       "  <thead>\n",
       "    <tr style=\"text-align: right;\">\n",
       "      <th></th>\n",
       "      <th>Country</th>\n",
       "      <th>Country calling code</th>\n",
       "    </tr>\n",
       "  </thead>\n",
       "  <tbody>\n",
       "    <tr>\n",
       "      <th>0</th>\n",
       "      <td>Austria</td>\n",
       "      <td>43</td>\n",
       "    </tr>\n",
       "    <tr>\n",
       "      <th>1</th>\n",
       "      <td>Belgium</td>\n",
       "      <td>32</td>\n",
       "    </tr>\n",
       "    <tr>\n",
       "      <th>2</th>\n",
       "      <td>Bulgaria</td>\n",
       "      <td>359</td>\n",
       "    </tr>\n",
       "    <tr>\n",
       "      <th>3</th>\n",
       "      <td>Croatia</td>\n",
       "      <td>385</td>\n",
       "    </tr>\n",
       "    <tr>\n",
       "      <th>4</th>\n",
       "      <td>Cyprus</td>\n",
       "      <td>357</td>\n",
       "    </tr>\n",
       "    <tr>\n",
       "      <th>5</th>\n",
       "      <td>Czech Republic</td>\n",
       "      <td>420</td>\n",
       "    </tr>\n",
       "    <tr>\n",
       "      <th>6</th>\n",
       "      <td>Denmark</td>\n",
       "      <td>45</td>\n",
       "    </tr>\n",
       "    <tr>\n",
       "      <th>7</th>\n",
       "      <td>Estonia</td>\n",
       "      <td>372</td>\n",
       "    </tr>\n",
       "    <tr>\n",
       "      <th>8</th>\n",
       "      <td>Finland</td>\n",
       "      <td>358</td>\n",
       "    </tr>\n",
       "    <tr>\n",
       "      <th>9</th>\n",
       "      <td>France</td>\n",
       "      <td>33</td>\n",
       "    </tr>\n",
       "    <tr>\n",
       "      <th>10</th>\n",
       "      <td>Germany</td>\n",
       "      <td>49</td>\n",
       "    </tr>\n",
       "    <tr>\n",
       "      <th>11</th>\n",
       "      <td>Greece</td>\n",
       "      <td>30</td>\n",
       "    </tr>\n",
       "    <tr>\n",
       "      <th>12</th>\n",
       "      <td>Hungary</td>\n",
       "      <td>36</td>\n",
       "    </tr>\n",
       "    <tr>\n",
       "      <th>13</th>\n",
       "      <td>Iceland</td>\n",
       "      <td>354</td>\n",
       "    </tr>\n",
       "    <tr>\n",
       "      <th>14</th>\n",
       "      <td>Ireland</td>\n",
       "      <td>353</td>\n",
       "    </tr>\n",
       "    <tr>\n",
       "      <th>15</th>\n",
       "      <td>Italy</td>\n",
       "      <td>39</td>\n",
       "    </tr>\n",
       "    <tr>\n",
       "      <th>16</th>\n",
       "      <td>Latvia</td>\n",
       "      <td>371</td>\n",
       "    </tr>\n",
       "    <tr>\n",
       "      <th>17</th>\n",
       "      <td>Liechtenstein</td>\n",
       "      <td>423</td>\n",
       "    </tr>\n",
       "    <tr>\n",
       "      <th>18</th>\n",
       "      <td>Lithuania</td>\n",
       "      <td>370</td>\n",
       "    </tr>\n",
       "    <tr>\n",
       "      <th>19</th>\n",
       "      <td>Luxembourg</td>\n",
       "      <td>352</td>\n",
       "    </tr>\n",
       "  </tbody>\n",
       "</table>\n",
       "</div>"
      ],
      "text/plain": [
       "           Country Country calling code\n",
       "0          Austria                   43\n",
       "1          Belgium                   32\n",
       "2         Bulgaria                  359\n",
       "3          Croatia                  385\n",
       "4           Cyprus                  357\n",
       "5   Czech Republic                  420\n",
       "6          Denmark                   45\n",
       "7          Estonia                  372\n",
       "8          Finland                  358\n",
       "9           France                   33\n",
       "10         Germany                   49\n",
       "11          Greece                   30\n",
       "12         Hungary                   36\n",
       "13         Iceland                  354\n",
       "14         Ireland                  353\n",
       "15           Italy                   39\n",
       "16          Latvia                  371\n",
       "17   Liechtenstein                  423\n",
       "18       Lithuania                  370\n",
       "19      Luxembourg                  352"
      ]
     },
     "execution_count": 8,
     "metadata": {},
     "output_type": "execute_result"
    }
   ],
   "source": [
    "import pandas as pd\n",
    "df = pd.read_html('https://en.wikipedia.org/wiki/Telephone_numbers_in_Europe')[1]\n",
    "df = df.iloc[:,:2]\n",
    "df.head(20)"
   ]
  },
  {
   "cell_type": "code",
   "execution_count": 14,
   "metadata": {},
   "outputs": [
    {
     "name": "stdout",
     "output_type": "stream",
     "text": [
      "Hello! This program will tell whether you entered a country phone code. Enjoy!\n",
      "Please enter an integer here: 358\n",
      "This integer is not a phone code to any country. Try again!\n",
      "Please enter an integer here: 359\n",
      "this is the phone code of Bulgaria\n"
     ]
    }
   ],
   "source": [
    "print(\"Hello! This program will tell whether you entered a country phone code. Enjoy!\")\n",
    "Austria = 43\n",
    "Belgium = 32\n",
    "Bulgaria = 359\n",
    "Croatia = 385\n",
    "Denmark = 45\n",
    "Germany = 49\n",
    "#...\n",
    "#....\n",
    "#.....\n",
    "while True:\n",
    "    phone = int(input(\"Please enter an integer here: \"))\n",
    "    if phone != Austria and phone != Belgium and phone != Bulgaria and phone != Croatia and phone != Denmark and phone != Germany:\n",
    "        print(\"This integer is not a phone code of any country. Try again!\")\n",
    "        continue\n",
    "    elif phone == Austria:\n",
    "        print(\"This is the phone code of Austria\")\n",
    "        break\n",
    "    elif phone == Belgium:\n",
    "        print(\"This is the phone code of Belgium\")\n",
    "        break\n",
    "    elif phone == Bulgaria:\n",
    "        print(\"This is the phone code of Bulgaria\")\n",
    "        break\n",
    "    elif phone == Croatia:\n",
    "        print(\"This is the phone code of Croatia\")\n",
    "        break\n",
    "    elif phone == Denmark:\n",
    "        print(\"This is the phone code of Denmark\")\n",
    "        break\n",
    "    elif phone == Germany:\n",
    "        print(\"This is the phone code of Germany\")\n",
    "        break"
   ]
  },
  {
   "cell_type": "markdown",
   "metadata": {},
   "source": [
    "#### 12) Write a piece of code that reads 6 numbers in a row. Next, show the number of positive values entered. On the next line, print the average of the values to one decimal place. "
   ]
  },
  {
   "cell_type": "code",
   "execution_count": 52,
   "metadata": {},
   "outputs": [
    {
     "name": "stdout",
     "output_type": "stream",
     "text": [
      "5.55\n",
      "-5.55\n",
      "-6.14\n",
      "-7.1255\n",
      "23.31\n",
      "33.1\n",
      "5.55\n",
      "23.31\n",
      "33.1\n",
      "The mean is:  7.2\n"
     ]
    }
   ],
   "source": [
    "list_numbers = []\n",
    "max_numbers = 6\n",
    "while len(list_numbers) < max_numbers:\n",
    "    numy = float(input())\n",
    "    list_numbers.append(numy)\n",
    "for numy in list_numbers:\n",
    "    if numy > 0:\n",
    "        print(numy)\n",
    "average = sum(list_numbers) / len(list_numbers)\n",
    "print(\"The mean is: \", \"{:.1f}\".format(average))"
   ]
  },
  {
   "cell_type": "markdown",
   "metadata": {},
   "source": [
    "## 13) Read an integer **N**. Then print the **square of each of the even values**, from 1 to N, including N, if applicable, arranged one per line. "
   ]
  },
  {
   "cell_type": "code",
   "execution_count": 22,
   "metadata": {},
   "outputs": [
    {
     "name": "stdout",
     "output_type": "stream",
     "text": [
      "6\n",
      "4\n",
      "16\n",
      "36\n"
     ]
    }
   ],
   "source": [
    "numi = int(input())\n",
    "for g in range (1, numi+1):\n",
    "    if g % 2 == 0:\n",
    "        print(g*g)"
   ]
  },
  {
   "cell_type": "markdown",
   "metadata": {},
   "source": [
    "#### 14) Using **input()**, read an integer and print its classification as **'even / odd'** and **'positive / negative'** . The two classes for the number must be printed on the same line separated by a space. In the case of zero, print only **'null'**. "
   ]
  },
  {
   "cell_type": "code",
   "execution_count": 17,
   "metadata": {},
   "outputs": [
    {
     "name": "stdout",
     "output_type": "stream",
     "text": [
      "-4\n",
      "Negative, Even\n"
     ]
    }
   ],
   "source": [
    "classy = int(input())\n",
    "if classy < 0 and classy % 2 == 0:\n",
    "    print(\"Negative, Even\")\n",
    "elif classy > 0 and classy % 2 == 0:\n",
    "    print(\"Positive, Even\")\n",
    "elif classy < 0 and classy % 2 != 0:\n",
    "    print(\"Negative, Odd\")\n",
    "elif classy > 0 and classy % 2 !=0:\n",
    "    print(\"Positive, Odd\")\n",
    "else:\n",
    "    print(\"null\")"
   ]
  },
  {
   "cell_type": "markdown",
   "metadata": {},
   "source": [
    "## Challenge\n",
    "#### 15) Ordering problems are recurrent in the history of programming. Over time, several algorithms have been developed to fulfill this function. The simplest of these algorithms is the [**Bubble Sort**](https://en.wikipedia.org/wiki/Bubble_sort), which is based on comparisons of elements two by two in a loop of passes through the elements. Your mission, if you decide to accept it, will be to input six whole numbers ramdonly ordered. Then implement the **Bubble Sort** principle to order these six numbers **using only loops and conditionals**.  \n",
    "#### At the end, print the six numbers in ascending order on a single line separated by spaces. "
   ]
  },
  {
   "cell_type": "code",
   "execution_count": null,
   "metadata": {},
   "outputs": [],
   "source": []
  }
 ],
 "metadata": {
  "kernelspec": {
   "display_name": "Python 3",
   "language": "python",
   "name": "python3"
  },
  "language_info": {
   "codemirror_mode": {
    "name": "ipython",
    "version": 3
   },
   "file_extension": ".py",
   "mimetype": "text/x-python",
   "name": "python",
   "nbconvert_exporter": "python",
   "pygments_lexer": "ipython3",
   "version": "3.8.5"
  }
 },
 "nbformat": 4,
 "nbformat_minor": 4
}
